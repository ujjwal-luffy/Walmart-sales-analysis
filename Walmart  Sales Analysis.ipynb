{
 "cells": [
  {
   "cell_type": "markdown",
   "id": "b4504c2c",
   "metadata": {},
   "source": [
    "# WALMART SALES ANALYSIS"
   ]
  },
  {
   "cell_type": "code",
   "execution_count": 1,
   "id": "86d43723",
   "metadata": {},
   "outputs": [],
   "source": [
    "import pandas as pd\n",
    "import numpy as np\n",
    "import matplotlib.pyplot as plt\n",
    "import seaborn as sns"
   ]
  },
  {
   "cell_type": "code",
   "execution_count": 2,
   "id": "5d18e015",
   "metadata": {},
   "outputs": [
    {
     "data": {
      "text/html": [
       "<div>\n",
       "<style scoped>\n",
       "    .dataframe tbody tr th:only-of-type {\n",
       "        vertical-align: middle;\n",
       "    }\n",
       "\n",
       "    .dataframe tbody tr th {\n",
       "        vertical-align: top;\n",
       "    }\n",
       "\n",
       "    .dataframe thead th {\n",
       "        text-align: right;\n",
       "    }\n",
       "</style>\n",
       "<table border=\"1\" class=\"dataframe\">\n",
       "  <thead>\n",
       "    <tr style=\"text-align: right;\">\n",
       "      <th></th>\n",
       "      <th>User_ID</th>\n",
       "      <th>Product_ID</th>\n",
       "      <th>Gender</th>\n",
       "      <th>Age</th>\n",
       "      <th>Occupation</th>\n",
       "      <th>City_Category</th>\n",
       "      <th>Stay_In_Current_City_Years</th>\n",
       "      <th>Marital_Status</th>\n",
       "      <th>Product_Category</th>\n",
       "      <th>Purchase</th>\n",
       "    </tr>\n",
       "  </thead>\n",
       "  <tbody>\n",
       "    <tr>\n",
       "      <th>0</th>\n",
       "      <td>1000001</td>\n",
       "      <td>P00069042</td>\n",
       "      <td>F</td>\n",
       "      <td>0-17</td>\n",
       "      <td>10</td>\n",
       "      <td>A</td>\n",
       "      <td>2</td>\n",
       "      <td>0</td>\n",
       "      <td>3</td>\n",
       "      <td>8370</td>\n",
       "    </tr>\n",
       "    <tr>\n",
       "      <th>1</th>\n",
       "      <td>1000001</td>\n",
       "      <td>P00248942</td>\n",
       "      <td>F</td>\n",
       "      <td>0-17</td>\n",
       "      <td>10</td>\n",
       "      <td>A</td>\n",
       "      <td>2</td>\n",
       "      <td>0</td>\n",
       "      <td>1</td>\n",
       "      <td>15200</td>\n",
       "    </tr>\n",
       "    <tr>\n",
       "      <th>2</th>\n",
       "      <td>1000001</td>\n",
       "      <td>P00087842</td>\n",
       "      <td>F</td>\n",
       "      <td>0-17</td>\n",
       "      <td>10</td>\n",
       "      <td>A</td>\n",
       "      <td>2</td>\n",
       "      <td>0</td>\n",
       "      <td>12</td>\n",
       "      <td>1422</td>\n",
       "    </tr>\n",
       "    <tr>\n",
       "      <th>3</th>\n",
       "      <td>1000001</td>\n",
       "      <td>P00085442</td>\n",
       "      <td>F</td>\n",
       "      <td>0-17</td>\n",
       "      <td>10</td>\n",
       "      <td>A</td>\n",
       "      <td>2</td>\n",
       "      <td>0</td>\n",
       "      <td>12</td>\n",
       "      <td>1057</td>\n",
       "    </tr>\n",
       "    <tr>\n",
       "      <th>4</th>\n",
       "      <td>1000002</td>\n",
       "      <td>P00285442</td>\n",
       "      <td>M</td>\n",
       "      <td>55+</td>\n",
       "      <td>16</td>\n",
       "      <td>C</td>\n",
       "      <td>4+</td>\n",
       "      <td>0</td>\n",
       "      <td>8</td>\n",
       "      <td>7969</td>\n",
       "    </tr>\n",
       "  </tbody>\n",
       "</table>\n",
       "</div>"
      ],
      "text/plain": [
       "   User_ID Product_ID Gender   Age  Occupation City_Category  \\\n",
       "0  1000001  P00069042      F  0-17          10             A   \n",
       "1  1000001  P00248942      F  0-17          10             A   \n",
       "2  1000001  P00087842      F  0-17          10             A   \n",
       "3  1000001  P00085442      F  0-17          10             A   \n",
       "4  1000002  P00285442      M   55+          16             C   \n",
       "\n",
       "  Stay_In_Current_City_Years  Marital_Status  Product_Category  Purchase  \n",
       "0                          2               0                 3      8370  \n",
       "1                          2               0                 1     15200  \n",
       "2                          2               0                12      1422  \n",
       "3                          2               0                12      1057  \n",
       "4                         4+               0                 8      7969  "
      ]
     },
     "execution_count": 2,
     "metadata": {},
     "output_type": "execute_result"
    }
   ],
   "source": [
    "wd=pd.read_csv(\"walmart.csv\")\n",
    "wd.head(5)"
   ]
  },
  {
   "cell_type": "code",
   "execution_count": 3,
   "id": "b323ac0c",
   "metadata": {},
   "outputs": [
    {
     "data": {
      "text/plain": [
       "User_ID                       0\n",
       "Product_ID                    0\n",
       "Gender                        0\n",
       "Age                           0\n",
       "Occupation                    0\n",
       "City_Category                 0\n",
       "Stay_In_Current_City_Years    0\n",
       "Marital_Status                0\n",
       "Product_Category              0\n",
       "Purchase                      0\n",
       "dtype: int64"
      ]
     },
     "execution_count": 3,
     "metadata": {},
     "output_type": "execute_result"
    }
   ],
   "source": [
    "wd.isnull().sum()"
   ]
  },
  {
   "cell_type": "code",
   "execution_count": 4,
   "id": "8c619b6d",
   "metadata": {},
   "outputs": [
    {
     "data": {
      "text/plain": [
       "User_ID                       0\n",
       "Product_ID                    0\n",
       "Gender                        0\n",
       "Age                           0\n",
       "Occupation                    0\n",
       "City_Category                 0\n",
       "Stay_In_Current_City_Years    0\n",
       "Marital_Status                0\n",
       "Product_Category              0\n",
       "Purchase                      0\n",
       "dtype: object"
      ]
     },
     "execution_count": 4,
     "metadata": {},
     "output_type": "execute_result"
    }
   ],
   "source": [
    "wd[wd.duplicated()].sum()"
   ]
  },
  {
   "cell_type": "code",
   "execution_count": 5,
   "id": "9af5527f",
   "metadata": {},
   "outputs": [
    {
     "data": {
      "text/plain": [
       "array([0, 1], dtype=int64)"
      ]
     },
     "execution_count": 5,
     "metadata": {},
     "output_type": "execute_result"
    }
   ],
   "source": [
    "wd[\"Marital_Status\"].unique()"
   ]
  },
  {
   "cell_type": "markdown",
   "id": "dfd0956b",
   "metadata": {},
   "source": [
    "# Exploratory Data Analysis"
   ]
  },
  {
   "cell_type": "markdown",
   "id": "bbc9d9d3",
   "metadata": {},
   "source": [
    "Gender"
   ]
  },
  {
   "cell_type": "code",
   "execution_count": 6,
   "id": "345596d5",
   "metadata": {},
   "outputs": [
    {
     "data": {
      "image/png": "[encoded data removed]",
      "text/plain": [
       "<Figure size 640x480 with 1 Axes>"
      ]
     },
     "metadata": {},
     "output_type": "display_data"
    }
   ],
   "source": [
    "ax=sns.countplot(x = \"Gender\", data = wd)\n",
    "for bars in ax.containers:\n",
    "    ax.bar_label(bars)"
   ]
  },
  {
   "cell_type": "markdown",
   "id": "21f71dde",
   "metadata": {},
   "source": [
    "Gender wise sales "
   ]
  },
  {
   "cell_type": "code",
   "execution_count": 7,
   "id": "64d74d97",
   "metadata": {},
   "outputs": [
    {
     "data": {
      "text/plain": [
       "<Axes: xlabel='Gender', ylabel='Purchase'>"
      ]
     },
     "execution_count": 7,
     "metadata": {},
     "output_type": "execute_result"
    },
    {
     "data": {
      "image/png": "[encoded data removed]",
      "text/plain": [
       "<Figure size 640x480 with 1 Axes>"
      ]
     },
     "metadata": {},
     "output_type": "display_data"
    }
   ],
   "source": [
    "sales_gen = wd.groupby(['Gender'], as_index=False)['Purchase'].sum().sort_values(by='Purchase', ascending=False)\n",
    "ax = sns.barplot(x = 'Gender',y= 'Purchase' ,data = sales_gen)\n",
    "ax"
   ]
  },
  {
   "cell_type": "markdown",
   "id": "956c5ecb",
   "metadata": {},
   "source": [
    "Age_group"
   ]
  },
  {
   "cell_type": "code",
   "execution_count": 8,
   "id": "65355311",
   "metadata": {},
   "outputs": [
    {
     "data": {
      "image/png": "[encoded data removed]",
      "text/plain": [
       "<Figure size 640x480 with 1 Axes>"
      ]
     },
     "metadata": {},
     "output_type": "display_data"
    }
   ],
   "source": [
    "ax=sns.countplot(x = \"Age\" , data = wd , hue = \"Gender\")"
   ]
  },
  {
   "cell_type": "markdown",
   "id": "337dd2fd",
   "metadata": {},
   "source": [
    "Age Group wise sales prediction"
   ]
  },
  {
   "cell_type": "code",
   "execution_count": null,
   "id": "34cbfe08",
   "metadata": {},
   "outputs": [
    {
     "data": {
      "text/plain": [
       "<Axes: xlabel='Age', ylabel='Purchase'>"
      ]
     },
     "execution_count": 9,
     "metadata": {},
     "output_type": "execute_result"
    }
   ],
   "source": [
    "sales_age=wd.groupby(['Age'],as_index=False)['Purchase'].sum().sort_values(by='Purchase',ascending=False)\n",
    "ax=sns.barplot(x='Age',y='Purchase',data= sales_age)\n",
    "ax"
   ]
  },
  {
   "cell_type": "markdown",
   "id": "a033f67f",
   "metadata": {},
   "source": [
    "Marital_Status"
   ]
  },
  {
   "cell_type": "code",
   "execution_count": null,
   "id": "ba15b6dc",
   "metadata": {},
   "outputs": [],
   "source": [
    "ax=sns.countplot(x=\"Marital_Status\" , data = wd)\n",
    "for bars in ax.containers:\n",
    "    ax.bar_label(bars)"
   ]
  },
  {
   "cell_type": "markdown",
   "id": "9ba2e3be",
   "metadata": {},
   "source": [
    "Marital Status wise sales"
   ]
  },
  {
   "cell_type": "code",
   "execution_count": null,
   "id": "249fe1aa",
   "metadata": {
    "scrolled": false
   },
   "outputs": [],
   "source": [
    "sales_mar=wd.groupby(['Marital_Status' , 'Gender'], as_index=False)['Purchase'].sum().sort_values(by='Purchase',ascending=False)\n",
    "ax=sns.barplot(x='Marital_Status',y='Purchase',data=sales_mar,hue='Gender')\n",
    "ax"
   ]
  },
  {
   "cell_type": "markdown",
   "id": "b2dd9c35",
   "metadata": {},
   "source": [
    "City category"
   ]
  },
  {
   "cell_type": "code",
   "execution_count": null,
   "id": "a42f9368",
   "metadata": {
    "scrolled": false
   },
   "outputs": [],
   "source": [
    "ax=sns.countplot(x='City_Category', data= wd)\n",
    "ax"
   ]
  },
  {
   "cell_type": "markdown",
   "id": "3f171101",
   "metadata": {},
   "source": [
    "City Category wise sales"
   ]
  },
  {
   "cell_type": "code",
   "execution_count": null,
   "id": "4967a42f",
   "metadata": {},
   "outputs": [],
   "source": [
    "sales_city=wd.groupby(['City_Category'],as_index=False)['Purchase'].sum().sort_values(by='Purchase',ascending=False)\n",
    "ax=sns.barplot(x='City_Category',y='Purchase',data=sales_city)\n",
    "ax"
   ]
  },
  {
   "cell_type": "markdown",
   "id": "f28c0330",
   "metadata": {},
   "source": [
    "Upon analyzing Walmart's sales data across various dimensions, it is evident that males exhibit significantly higher purchasing power compared to females. Furthermore, when examining marital status, non-married individuals tend to have higher purchase frequencies than their married counterparts. Additionally, among the city categories, individuals from City Category B demonstrate the highest purchasing activity."
   ]
  }
 ],
 "metadata": {
  "kernelspec": {
   "display_name": "Python 3 (ipykernel)",
   "language": "python",
   "name": "python3"
  },
  "language_info": {
   "codemirror_mode": {
    "name": "ipython",
    "version": 3
   },
   "file_extension": ".py",
   "mimetype": "text/x-python",
   "name": "python",
   "nbconvert_exporter": "python",
   "pygments_lexer": "ipython3",
   "version": "3.11.5"
  }
 },
 "nbformat": 4,
 "nbformat_minor": 5
}
